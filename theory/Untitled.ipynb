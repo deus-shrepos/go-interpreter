{
 "cells": [
  {
   "cell_type": "code",
   "execution_count": 3,
   "id": "21106e38-d266-4d15-96e0-d86a3a4b9887",
   "metadata": {},
   "outputs": [],
   "source": [
    "from abc import ABC, abstractmethod"
   ]
  },
  {
   "cell_type": "code",
   "execution_count": 42,
   "id": "98ff7273-8916-4e9f-9a65-13a989707f58",
   "metadata": {},
   "outputs": [],
   "source": [
    "class ShapeInterface(ABC):\n",
    "    @abstractmethod\n",
    "    def visit_circle(self, visitor):\n",
    "        pass\n",
    "    def visit_square(self, visitor):\n",
    "        pass\n",
    "        \n",
    "class AbstractShape(ABC):\n",
    "    @abstractmethod\n",
    "    def accept(self, visitor):\n",
    "        pass\n",
    "\n",
    "class Circle(AbstractShape):\n",
    "    def __init__(self, radius):\n",
    "        self.radius = radius\n",
    "    def accept(self, visitor):\n",
    "        visitor.visit_circle(self)\n",
    "    def height(self):\n",
    "        return self.radius * 2\n",
    "        \n",
    "\n",
    "class Square(AbstractShape):\n",
    "    def __init__(self, length):\n",
    "        self.length = length\n",
    "    def accept(self, visitor):\n",
    "        visitor.visit_square(self)\n",
    "    def height(self):\n",
    "        return self.length\n",
    "\n",
    "class Visitor(ShapeInterface):\n",
    "    def visit_circle(self, visitor):\n",
    "        print(\"Circle Visitor:\", visitor.height())\n",
    "\n",
    "    def visit_square(self, visitor):\n",
    "        print(\"Square Visitor:\", visitor.height())"
   ]
  },
  {
   "cell_type": "code",
   "execution_count": 33,
   "id": "0ff18915-de61-4242-bddb-aee6b08bad60",
   "metadata": {},
   "outputs": [],
   "source": [
    "v = Visitor()"
   ]
  },
  {
   "cell_type": "code",
   "execution_count": 39,
   "id": "d72cb60f-0a0c-408c-ac12-ad58af1a1968",
   "metadata": {},
   "outputs": [],
   "source": [
    "circle = Circle(radius=10)\n",
    "square = Square(length=10)"
   ]
  },
  {
   "cell_type": "code",
   "execution_count": 40,
   "id": "c785ca80-6afa-4461-b1ec-7ee28cb87a90",
   "metadata": {},
   "outputs": [
    {
     "name": "stdout",
     "output_type": "stream",
     "text": [
      "Circle Visitor: 20\n"
     ]
    }
   ],
   "source": [
    "circle.accept(v)"
   ]
  },
  {
   "cell_type": "code",
   "execution_count": 41,
   "id": "cd71fe04-36ea-4053-9b64-37f2e37f8a5c",
   "metadata": {},
   "outputs": [
    {
     "name": "stdout",
     "output_type": "stream",
     "text": [
      "Square Visitor: 10\n"
     ]
    }
   ],
   "source": [
    "square.accept(v)"
   ]
  },
  {
   "cell_type": "code",
   "execution_count": null,
   "id": "2e405f54-07dc-480f-973e-6346e59c8556",
   "metadata": {},
   "outputs": [],
   "source": []
  }
 ],
 "metadata": {
  "kernelspec": {
   "display_name": "Python 3 (ipykernel)",
   "language": "python",
   "name": "python3"
  },
  "language_info": {
   "codemirror_mode": {
    "name": "ipython",
    "version": 3
   },
   "file_extension": ".py",
   "mimetype": "text/x-python",
   "name": "python",
   "nbconvert_exporter": "python",
   "pygments_lexer": "ipython3",
   "version": "3.12.5"
  }
 },
 "nbformat": 4,
 "nbformat_minor": 5
}
